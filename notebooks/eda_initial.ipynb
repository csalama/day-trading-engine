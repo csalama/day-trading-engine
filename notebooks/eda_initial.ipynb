{
 "cells": [
  {
   "cell_type": "markdown",
   "metadata": {},
   "source": [
    "# Initial EDA"
   ]
  },
  {
   "cell_type": "code",
   "execution_count": 8,
   "metadata": {},
   "outputs": [],
   "source": [
    "import os\n",
    "import pandas as pd\n",
    "import numpy as np\n",
    "import matplotlib.pyplot as plt\n",
    "import seaborn as sns\n",
    "import talib"
   ]
  },
  {
   "cell_type": "code",
   "execution_count": 2,
   "metadata": {},
   "outputs": [],
   "source": [
    "PROJECT_PATH ='/Users/colinsalama/Documents/Projects/metis/project-5'\n",
    "AGG_PATH = os.path.join(PROJECT_PATH,'data/raw/MSFT_1year_agg.csv')\n",
    "FIG_PATH = os.path.join(PROJECT_PATH,'reports/figures/')"
   ]
  },
  {
   "cell_type": "code",
   "execution_count": 3,
   "metadata": {},
   "outputs": [
    {
     "name": "stdout",
     "output_type": "stream",
     "text": [
      "<class 'pandas.core.frame.DataFrame'>\n",
      "RangeIndex: 166175 entries, 0 to 166174\n",
      "Data columns (total 6 columns):\n",
      " #   Column  Non-Null Count   Dtype         \n",
      "---  ------  --------------   -----         \n",
      " 0   time    166175 non-null  datetime64[ns]\n",
      " 1   open    166175 non-null  float64       \n",
      " 2   high    166175 non-null  float64       \n",
      " 3   low     166175 non-null  float64       \n",
      " 4   close   166175 non-null  float64       \n",
      " 5   volume  166175 non-null  int64         \n",
      "dtypes: datetime64[ns](1), float64(4), int64(1)\n",
      "memory usage: 7.6 MB\n"
     ]
    }
   ],
   "source": [
    "df = pd.read_csv(AGG_PATH)\n",
    "df['time'] = pd.to_datetime(df['time'])\n",
    "df.sort_values(by=['time'],inplace=True)\n",
    "df.reset_index(drop=True,inplace=True)\n",
    "df.info()"
   ]
  },
  {
   "cell_type": "code",
   "execution_count": 4,
   "metadata": {},
   "outputs": [
    {
     "data": {
      "text/html": [
       "<div>\n",
       "<style scoped>\n",
       "    .dataframe tbody tr th:only-of-type {\n",
       "        vertical-align: middle;\n",
       "    }\n",
       "\n",
       "    .dataframe tbody tr th {\n",
       "        vertical-align: top;\n",
       "    }\n",
       "\n",
       "    .dataframe thead th {\n",
       "        text-align: right;\n",
       "    }\n",
       "</style>\n",
       "<table border=\"1\" class=\"dataframe\">\n",
       "  <thead>\n",
       "    <tr style=\"text-align: right;\">\n",
       "      <th></th>\n",
       "      <th>time</th>\n",
       "      <th>open</th>\n",
       "      <th>high</th>\n",
       "      <th>low</th>\n",
       "      <th>close</th>\n",
       "      <th>volume</th>\n",
       "    </tr>\n",
       "  </thead>\n",
       "  <tbody>\n",
       "    <tr>\n",
       "      <th>0</th>\n",
       "      <td>2020-03-16 04:01:00</td>\n",
       "      <td>146.441615</td>\n",
       "      <td>146.441615</td>\n",
       "      <td>143.541095</td>\n",
       "      <td>143.541095</td>\n",
       "      <td>2555</td>\n",
       "    </tr>\n",
       "    <tr>\n",
       "      <th>1</th>\n",
       "      <td>2020-03-16 04:02:00</td>\n",
       "      <td>143.056025</td>\n",
       "      <td>143.056025</td>\n",
       "      <td>143.046126</td>\n",
       "      <td>143.046126</td>\n",
       "      <td>463</td>\n",
       "    </tr>\n",
       "    <tr>\n",
       "      <th>2</th>\n",
       "      <td>2020-03-16 04:03:00</td>\n",
       "      <td>141.868099</td>\n",
       "      <td>141.868099</td>\n",
       "      <td>141.868099</td>\n",
       "      <td>141.868099</td>\n",
       "      <td>369</td>\n",
       "    </tr>\n",
       "    <tr>\n",
       "      <th>3</th>\n",
       "      <td>2020-03-16 04:04:00</td>\n",
       "      <td>141.660212</td>\n",
       "      <td>141.680011</td>\n",
       "      <td>141.660212</td>\n",
       "      <td>141.680011</td>\n",
       "      <td>752</td>\n",
       "    </tr>\n",
       "    <tr>\n",
       "      <th>4</th>\n",
       "      <td>2020-03-16 04:05:00</td>\n",
       "      <td>142.541257</td>\n",
       "      <td>142.937233</td>\n",
       "      <td>142.541257</td>\n",
       "      <td>142.937233</td>\n",
       "      <td>1502</td>\n",
       "    </tr>\n",
       "    <tr>\n",
       "      <th>...</th>\n",
       "      <td>...</td>\n",
       "      <td>...</td>\n",
       "      <td>...</td>\n",
       "      <td>...</td>\n",
       "      <td>...</td>\n",
       "      <td>...</td>\n",
       "    </tr>\n",
       "    <tr>\n",
       "      <th>166170</th>\n",
       "      <td>2021-03-08 19:53:00</td>\n",
       "      <td>228.400000</td>\n",
       "      <td>228.400000</td>\n",
       "      <td>228.400000</td>\n",
       "      <td>228.400000</td>\n",
       "      <td>317</td>\n",
       "    </tr>\n",
       "    <tr>\n",
       "      <th>166171</th>\n",
       "      <td>2021-03-08 19:55:00</td>\n",
       "      <td>228.300000</td>\n",
       "      <td>228.300000</td>\n",
       "      <td>228.300000</td>\n",
       "      <td>228.300000</td>\n",
       "      <td>186</td>\n",
       "    </tr>\n",
       "    <tr>\n",
       "      <th>166172</th>\n",
       "      <td>2021-03-08 19:56:00</td>\n",
       "      <td>228.300000</td>\n",
       "      <td>228.300000</td>\n",
       "      <td>228.300000</td>\n",
       "      <td>228.300000</td>\n",
       "      <td>474</td>\n",
       "    </tr>\n",
       "    <tr>\n",
       "      <th>166173</th>\n",
       "      <td>2021-03-08 19:58:00</td>\n",
       "      <td>228.400000</td>\n",
       "      <td>228.400000</td>\n",
       "      <td>228.400000</td>\n",
       "      <td>228.400000</td>\n",
       "      <td>848</td>\n",
       "    </tr>\n",
       "    <tr>\n",
       "      <th>166174</th>\n",
       "      <td>2021-03-08 20:00:00</td>\n",
       "      <td>228.400000</td>\n",
       "      <td>228.400000</td>\n",
       "      <td>228.400000</td>\n",
       "      <td>228.400000</td>\n",
       "      <td>823</td>\n",
       "    </tr>\n",
       "  </tbody>\n",
       "</table>\n",
       "<p>166175 rows × 6 columns</p>\n",
       "</div>"
      ],
      "text/plain": [
       "                      time        open        high         low       close  \\\n",
       "0      2020-03-16 04:01:00  146.441615  146.441615  143.541095  143.541095   \n",
       "1      2020-03-16 04:02:00  143.056025  143.056025  143.046126  143.046126   \n",
       "2      2020-03-16 04:03:00  141.868099  141.868099  141.868099  141.868099   \n",
       "3      2020-03-16 04:04:00  141.660212  141.680011  141.660212  141.680011   \n",
       "4      2020-03-16 04:05:00  142.541257  142.937233  142.541257  142.937233   \n",
       "...                    ...         ...         ...         ...         ...   \n",
       "166170 2021-03-08 19:53:00  228.400000  228.400000  228.400000  228.400000   \n",
       "166171 2021-03-08 19:55:00  228.300000  228.300000  228.300000  228.300000   \n",
       "166172 2021-03-08 19:56:00  228.300000  228.300000  228.300000  228.300000   \n",
       "166173 2021-03-08 19:58:00  228.400000  228.400000  228.400000  228.400000   \n",
       "166174 2021-03-08 20:00:00  228.400000  228.400000  228.400000  228.400000   \n",
       "\n",
       "        volume  \n",
       "0         2555  \n",
       "1          463  \n",
       "2          369  \n",
       "3          752  \n",
       "4         1502  \n",
       "...        ...  \n",
       "166170     317  \n",
       "166171     186  \n",
       "166172     474  \n",
       "166173     848  \n",
       "166174     823  \n",
       "\n",
       "[166175 rows x 6 columns]"
      ]
     },
     "execution_count": 4,
     "metadata": {},
     "output_type": "execute_result"
    }
   ],
   "source": [
    "df"
   ]
  },
  {
   "cell_type": "code",
   "execution_count": 5,
   "metadata": {},
   "outputs": [
    {
     "data": {
      "text/html": [
       "<div>\n",
       "<style scoped>\n",
       "    .dataframe tbody tr th:only-of-type {\n",
       "        vertical-align: middle;\n",
       "    }\n",
       "\n",
       "    .dataframe tbody tr th {\n",
       "        vertical-align: top;\n",
       "    }\n",
       "\n",
       "    .dataframe thead th {\n",
       "        text-align: right;\n",
       "    }\n",
       "</style>\n",
       "<table border=\"1\" class=\"dataframe\">\n",
       "  <thead>\n",
       "    <tr style=\"text-align: right;\">\n",
       "      <th></th>\n",
       "      <th>open</th>\n",
       "      <th>high</th>\n",
       "      <th>low</th>\n",
       "      <th>close</th>\n",
       "      <th>volume</th>\n",
       "    </tr>\n",
       "  </thead>\n",
       "  <tbody>\n",
       "    <tr>\n",
       "      <th>count</th>\n",
       "      <td>166175.000000</td>\n",
       "      <td>166175.000000</td>\n",
       "      <td>166175.000000</td>\n",
       "      <td>166175.000000</td>\n",
       "      <td>1.661750e+05</td>\n",
       "    </tr>\n",
       "    <tr>\n",
       "      <th>mean</th>\n",
       "      <td>202.239067</td>\n",
       "      <td>202.325415</td>\n",
       "      <td>202.151312</td>\n",
       "      <td>202.237558</td>\n",
       "      <td>4.698945e+04</td>\n",
       "    </tr>\n",
       "    <tr>\n",
       "      <th>std</th>\n",
       "      <td>24.226657</td>\n",
       "      <td>24.216214</td>\n",
       "      <td>24.237330</td>\n",
       "      <td>24.227100</td>\n",
       "      <td>9.714290e+04</td>\n",
       "    </tr>\n",
       "    <tr>\n",
       "      <th>min</th>\n",
       "      <td>131.394549</td>\n",
       "      <td>131.602436</td>\n",
       "      <td>131.186662</td>\n",
       "      <td>131.374750</td>\n",
       "      <td>1.000000e+02</td>\n",
       "    </tr>\n",
       "    <tr>\n",
       "      <th>25%</th>\n",
       "      <td>184.663647</td>\n",
       "      <td>184.728075</td>\n",
       "      <td>184.586376</td>\n",
       "      <td>184.653245</td>\n",
       "      <td>1.240000e+03</td>\n",
       "    </tr>\n",
       "    <tr>\n",
       "      <th>50%</th>\n",
       "      <td>208.318343</td>\n",
       "      <td>208.397949</td>\n",
       "      <td>208.229849</td>\n",
       "      <td>208.309262</td>\n",
       "      <td>2.796900e+04</td>\n",
       "    </tr>\n",
       "    <tr>\n",
       "      <th>75%</th>\n",
       "      <td>216.109588</td>\n",
       "      <td>216.174269</td>\n",
       "      <td>216.034589</td>\n",
       "      <td>216.104429</td>\n",
       "      <td>6.178050e+04</td>\n",
       "    </tr>\n",
       "    <tr>\n",
       "      <th>max</th>\n",
       "      <td>246.365035</td>\n",
       "      <td>247.133273</td>\n",
       "      <td>245.936019</td>\n",
       "      <td>246.365035</td>\n",
       "      <td>8.085304e+06</td>\n",
       "    </tr>\n",
       "  </tbody>\n",
       "</table>\n",
       "</div>"
      ],
      "text/plain": [
       "                open           high            low          close  \\\n",
       "count  166175.000000  166175.000000  166175.000000  166175.000000   \n",
       "mean      202.239067     202.325415     202.151312     202.237558   \n",
       "std        24.226657      24.216214      24.237330      24.227100   \n",
       "min       131.394549     131.602436     131.186662     131.374750   \n",
       "25%       184.663647     184.728075     184.586376     184.653245   \n",
       "50%       208.318343     208.397949     208.229849     208.309262   \n",
       "75%       216.109588     216.174269     216.034589     216.104429   \n",
       "max       246.365035     247.133273     245.936019     246.365035   \n",
       "\n",
       "             volume  \n",
       "count  1.661750e+05  \n",
       "mean   4.698945e+04  \n",
       "std    9.714290e+04  \n",
       "min    1.000000e+02  \n",
       "25%    1.240000e+03  \n",
       "50%    2.796900e+04  \n",
       "75%    6.178050e+04  \n",
       "max    8.085304e+06  "
      ]
     },
     "execution_count": 5,
     "metadata": {},
     "output_type": "execute_result"
    }
   ],
   "source": [
    "df.describe()"
   ]
  },
  {
   "cell_type": "code",
   "execution_count": 6,
   "metadata": {},
   "outputs": [
    {
     "data": {
      "image/png": "[encoded data removed]",
      "text/plain": [
       "<Figure size 432x288 with 1 Axes>"
      ]
     },
     "metadata": {
      "needs_background": "light"
     },
     "output_type": "display_data"
    }
   ],
   "source": [
    "#Init plot\n",
    "fig = plt.figure()\n",
    "ax = fig.add_subplot(111)\n",
    "ax.plot(df['time'],df['close'])\n",
    "\n",
    "#Style plot\n",
    "plt.grid(b=True)\n",
    "ax.set(title='MSFT Price per Share',ylabel='Price per Share ($)')\n",
    "ax.tick_params(rotation=45)\n",
    "fig.tight_layout()\n",
    "sns.set_style(\"whitegrid\")\n",
    "sns.axes_style(\"whitegrid\")\n",
    "\n",
    "#Save plot\n",
    "plt.savefig(os.path.join(FIG_PATH,'MSFT_Price_per_share_1year'),dpi=1200)"
   ]
  },
  {
   "cell_type": "code",
   "execution_count": 14,
   "metadata": {},
   "outputs": [
    {
     "name": "stdout",
     "output_type": "stream",
     "text": [
      "['ACOS', 'AD', 'ADD', 'ADOSC', 'ADX', 'ADXR', 'APO', 'AROON', 'AROONOSC', 'ASIN', 'ATAN', 'ATR', 'AVGPRICE', 'BBANDS', 'BETA', 'BOP', 'CCI', 'CDL2CROWS', 'CDL3BLACKCROWS', 'CDL3INSIDE', 'CDL3LINESTRIKE', 'CDL3OUTSIDE', 'CDL3STARSINSOUTH', 'CDL3WHITESOLDIERS', 'CDLABANDONEDBABY', 'CDLADVANCEBLOCK', 'CDLBELTHOLD', 'CDLBREAKAWAY', 'CDLCLOSINGMARUBOZU', 'CDLCONCEALBABYSWALL', 'CDLCOUNTERATTACK', 'CDLDARKCLOUDCOVER', 'CDLDOJI', 'CDLDOJISTAR', 'CDLDRAGONFLYDOJI', 'CDLENGULFING', 'CDLEVENINGDOJISTAR', 'CDLEVENINGSTAR', 'CDLGAPSIDESIDEWHITE', 'CDLGRAVESTONEDOJI', 'CDLHAMMER', 'CDLHANGINGMAN', 'CDLHARAMI', 'CDLHARAMICROSS', 'CDLHIGHWAVE', 'CDLHIKKAKE', 'CDLHIKKAKEMOD', 'CDLHOMINGPIGEON', 'CDLIDENTICAL3CROWS', 'CDLINNECK', 'CDLINVERTEDHAMMER', 'CDLKICKING', 'CDLKICKINGBYLENGTH', 'CDLLADDERBOTTOM', 'CDLLONGLEGGEDDOJI', 'CDLLONGLINE', 'CDLMARUBOZU', 'CDLMATCHINGLOW', 'CDLMATHOLD', 'CDLMORNINGDOJISTAR', 'CDLMORNINGSTAR', 'CDLONNECK', 'CDLPIERCING', 'CDLRICKSHAWMAN', 'CDLRISEFALL3METHODS', 'CDLSEPARATINGLINES', 'CDLSHOOTINGSTAR', 'CDLSHORTLINE', 'CDLSPINNINGTOP', 'CDLSTALLEDPATTERN', 'CDLSTICKSANDWICH', 'CDLTAKURI', 'CDLTASUKIGAP', 'CDLTHRUSTING', 'CDLTRISTAR', 'CDLUNIQUE3RIVER', 'CDLUPSIDEGAP2CROWS', 'CDLXSIDEGAP3METHODS', 'CEIL', 'CMO', 'CORREL', 'COS', 'COSH', 'DEMA', 'DIV', 'DX', 'EMA', 'EXP', 'FLOOR', 'HT_DCPERIOD', 'HT_DCPHASE', 'HT_PHASOR', 'HT_SINE', 'HT_TRENDLINE', 'HT_TRENDMODE', 'KAMA', 'LINEARREG', 'LINEARREG_ANGLE', 'LINEARREG_INTERCEPT', 'LINEARREG_SLOPE', 'LN', 'LOG10', 'MA', 'MACD', 'MACDEXT', 'MACDFIX', 'MAMA', 'MAVP', 'MAX', 'MAXINDEX', 'MEDPRICE', 'MFI', 'MIDPOINT', 'MIDPRICE', 'MIN', 'MININDEX', 'MINMAX', 'MINMAXINDEX', 'MINUS_DI', 'MINUS_DM', 'MOM', 'MULT', 'NATR', 'OBV', 'PLUS_DI', 'PLUS_DM', 'PPO', 'ROC', 'ROCP', 'ROCR', 'ROCR100', 'RSI', 'SAR', 'SAREXT', 'SIN', 'SINH', 'SMA', 'SQRT', 'STDDEV', 'STOCH', 'STOCHF', 'STOCHRSI', 'SUB', 'SUM', 'T3', 'TAN', 'TANH', 'TEMA', 'TRANGE', 'TRIMA', 'TRIX', 'TSF', 'TYPPRICE', 'ULTOSC', 'VAR', 'WCLPRICE', 'WILLR', 'WMA']\n"
     ]
    }
   ],
   "source": [
    "# Building features\n",
    "print (sorted(talib.get_functions()))"
   ]
  },
  {
   "cell_type": "code",
   "execution_count": null,
   "metadata": {},
   "outputs": [],
   "source": []
  },
  {
   "cell_type": "markdown",
   "metadata": {},
   "source": [
    "___\n",
    "# Testing\n"
   ]
  },
  {
   "cell_type": "code",
   "execution_count": 53,
   "metadata": {},
   "outputs": [
    {
     "name": "stdout",
     "output_type": "stream",
     "text": [
      "Size of the df: 15321\n",
      "Size of the df: 15064\n",
      "Size of the df: 13049\n",
      "Size of the df: 11934\n",
      "Size of the df: 12648\n",
      "Size of the df: 13689\n",
      "Size of the df: 13572\n",
      "Size of the df: 14327\n",
      "Size of the df: 14754\n",
      "Size of the df: 12009\n",
      "Size of the df: 13751\n",
      "Size of the df: 16057\n",
      "Total rows: 166175\n"
     ]
    }
   ],
   "source": [
    "MSFT_DATA = 'data/raw/MSFT_intraday_1year/'\n",
    "MSFT_PATH = os.path.join(PROJECT_PATH,MSFT_DATA)\n",
    "\n",
    "msft_files = os.listdir(MSFT_PATH)\n",
    "df = pd.read_csv(os.path.join(MSFT_PATH,msft_files[0]))\n",
    "print('Size of the df: {0}'.format(len(df.index)))\n",
    "total = len(df.index)\n",
    "\n",
    "for file in msft_files[1:]:\n",
    "    temp_path = os.path.join(MSFT_PATH,file)\n",
    "    new_df = pd.read_csv(temp_path)\n",
    "    print('Size of the df: {}'.format(len(new_df.index)))\n",
    "    total += len(new_df.index)\n",
    "    df = pd.concat([df,new_df],ignore_index=True)\n",
    "\n",
    "print('Total rows: {}'.format(total))"
   ]
  },
  {
   "cell_type": "code",
   "execution_count": 56,
   "metadata": {},
   "outputs": [
    {
     "data": {
      "text/plain": [
       "13847.916666666666"
      ]
     },
     "execution_count": 56,
     "metadata": {},
     "output_type": "execute_result"
    }
   ],
   "source": [
    "total/len(msft_files)"
   ]
  },
  {
   "cell_type": "code",
   "execution_count": null,
   "metadata": {},
   "outputs": [],
   "source": []
  }
 ],
 "metadata": {
  "kernelspec": {
   "display_name": "Python 3",
   "language": "python",
   "name": "python3"
  },
  "language_info": {
   "codemirror_mode": {
    "name": "ipython",
    "version": 3
   },
   "file_extension": ".py",
   "mimetype": "text/x-python",
   "name": "python",
   "nbconvert_exporter": "python",
   "pygments_lexer": "ipython3",
   "version": "3.8.5"
  }
 },
 "nbformat": 4,
 "nbformat_minor": 4
}
